{
 "cells": [
  {
   "cell_type": "code",
   "execution_count": 13,
   "metadata": {},
   "outputs": [
    {
     "data": {
      "text/plain": [
       "'/home/mingrui/anaconda3/envs/py36_cu90/bin/python'"
      ]
     },
     "execution_count": 13,
     "metadata": {},
     "output_type": "execute_result"
    }
   ],
   "source": [
    "# Put these at the top of every notebook, to get automatic reloading and inline plotting\n",
    "%reload_ext autoreload\n",
    "%autoreload 2\n",
    "%matplotlib inline\n",
    "\n",
    "from IPython.core.interactiveshell import InteractiveShell\n",
    "InteractiveShell.ast_node_interactivity = \"all\"\n",
    "\n",
    "# import warnings\n",
    "# warnings.filterwarnings(\"ignore\", category=DeprecationWarning);\n",
    "\n",
    "import sys\n",
    "sys.executable\n",
    "\n",
    "from matplotlib.pyplot import imshow"
   ]
  },
  {
   "cell_type": "code",
   "execution_count": 14,
   "metadata": {},
   "outputs": [],
   "source": [
    "import os\n",
    "\n",
    "import py_wsi\n",
    "import deephistopath.wsi.slide as deep_slide"
   ]
  },
  {
   "cell_type": "code",
   "execution_count": 15,
   "metadata": {},
   "outputs": [],
   "source": [
    "FILE_DIR = '/media/pathimg/TiantanImage/IDH_bingli'\n",
    "DB_DIR = ''\n",
    "DB_NAME = 'patch_db'"
   ]
  },
  {
   "cell_type": "code",
   "execution_count": 16,
   "metadata": {},
   "outputs": [
    {
     "name": "stdout",
     "output_type": "stream",
     "text": [
      "1121 WSI found in directory.\n",
      "Total WSI images:    1121\n",
      "LMDB name:           patch_db\n",
      "File names:          ['134831.svs' '130300.svs' '132524.svs' ... '126601.svs' '137448.svs'\n",
      " '136320.svs']\n"
     ]
    }
   ],
   "source": [
    "turtle = py_wsi.Turtle(FILE_DIR, DB_DIR, DB_NAME)\n",
    "\n",
    "print(\"Total WSI images:    \" + str(turtle.num_files))\n",
    "print(\"LMDB name:           \" + str(turtle.db_name))\n",
    "print(\"File names:          \" + str(turtle.files))"
   ]
  },
  {
   "cell_type": "code",
   "execution_count": 17,
   "metadata": {},
   "outputs": [
    {
     "data": {
      "text/plain": [
       "(<PIL.Image.Image image mode=RGB size=1991x1647 at 0x7F01B1278CF8>,\n",
       " 63743,\n",
       " 52729,\n",
       " 1991,\n",
       " 1647)"
      ]
     },
     "execution_count": 17,
     "metadata": {},
     "output_type": "execute_result"
    }
   ],
   "source": [
    "deep_slide.show_scaled_slide_image('/media/disk1/mingrui-projects/python-wsi-preprocessing/IDH_sample/train/132214.svs')"
   ]
  },
  {
   "cell_type": "code",
   "execution_count": null,
   "metadata": {},
   "outputs": [],
   "source": []
  }
 ],
 "metadata": {
  "kernelspec": {
   "display_name": "Python [conda env:py36_cu90]",
   "language": "python",
   "name": "conda-env-py36_cu90-py"
  },
  "language_info": {
   "codemirror_mode": {
    "name": "ipython",
    "version": 3
   },
   "file_extension": ".py",
   "mimetype": "text/x-python",
   "name": "python",
   "nbconvert_exporter": "python",
   "pygments_lexer": "ipython3",
   "version": "3.6.6"
  }
 },
 "nbformat": 4,
 "nbformat_minor": 2
}
