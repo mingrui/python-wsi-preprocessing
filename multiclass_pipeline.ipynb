{
 "cells": [
  {
   "cell_type": "code",
   "execution_count": 1,
   "metadata": {},
   "outputs": [
    {
     "data": {
      "text/plain": [
       "'/home/mingrui/anaconda3/envs/py36_cu90/bin/python'"
      ]
     },
     "execution_count": 1,
     "metadata": {},
     "output_type": "execute_result"
    }
   ],
   "source": [
    "# Put these at the top of every notebook, to get automatic reloading and inline plotting\n",
    "%reload_ext autoreload\n",
    "%autoreload 2\n",
    "%matplotlib inline\n",
    "\n",
    "from IPython.core.interactiveshell import InteractiveShell\n",
    "InteractiveShell.ast_node_interactivity = \"all\"\n",
    "\n",
    "# import warnings\n",
    "# warnings.filterwarnings(\"ignore\", category=DeprecationWarning);\n",
    "\n",
    "import sys\n",
    "sys.executable"
   ]
  },
  {
   "cell_type": "code",
   "execution_count": 2,
   "metadata": {},
   "outputs": [],
   "source": [
    "import os\n",
    "import glob\n",
    "import shutil\n",
    "from random import shuffle\n",
    "\n",
    "# plotting\n",
    "import PIL\n",
    "import matplotlib.pyplot as plt\n",
    "from matplotlib.pyplot import imshow\n",
    "from IPython.display import Image\n",
    "plt.rcParams['figure.figsize'] = [15, 15]\n",
    "\n",
    "import deephistopath.wsi.slide as slide\n",
    "\n",
    "import py_wsi\n",
    "import py_wsi.imagepy_toolkit as tk\n",
    "\n",
    "from wsi_utils import multiprocessing_pipeline, file_stats, turtle_stats\n",
    "\n",
    "import pandas as pd\n",
    "pd.set_option('display.max_columns',None)"
   ]
  },
  {
   "cell_type": "markdown",
   "metadata": {},
   "source": [
    "# Setup multi classes"
   ]
  },
  {
   "cell_type": "code",
   "execution_count": 3,
   "metadata": {},
   "outputs": [
    {
     "name": "stdout",
     "output_type": "stream",
     "text": [
      "[['/media/pathimg/TCGA_Glioma', './data/TCGA_Glioma', 'TCGA_Glioma_patch_db'], ['/media/pathimg/Meningiomas', './data/CGGA_Meningioma', 'CGGA_Meningioma_patch_db'], ['/media/pathimg/TCGA_Lung', './data/TCGA_Lung', 'TCGA_Lung_patch_db'], ['/media/pathimg/TCGA_Kidney', './data/TCGA_Kidney', 'TCGA_Kidney_patch_db'], ['/media/pathimg/TCGA_Breast', './data/TCGA_Breast', 'TCGA_Breast_patch_db'], ['/media/pathimg/TCGA_Uterus', './data/TCGA_Uterus', 'TCGA_Uterus_patch_db'], ['/media/pathimg/TCGA_Colorectal', './data/TCGA_Colorectal', 'TCGA_Colorectal_patch_db'], ['/media/pathimg/TCGA_WSI_glioma', './data/TCGA_Glioma_Frozen', 'TCGA_Glioma_Frozen_patch_db'], ['/media/pathimg/Ependymoma_Craniopharyngioma', './data/CGGA_EC', 'CGGA_EC_patch_db']]\n"
     ]
    }
   ],
   "source": [
    "tumor_folder_names = [['TCGA_Glioma'], ['Meningiomas', 'CGGA_Meningioma'], ['TCGA_Lung'], ['TCGA_Kidney'], \n",
    "                      ['TCGA_Breast'], ['TCGA_Uterus'], ['TCGA_Colorectal'], ['TCGA_WSI_glioma', 'TCGA_Glioma_Frozen'], \n",
    "                      ['Ependymoma_Craniopharyngioma', 'CGGA_EC']]\n",
    "tumor_type_list = []\n",
    "\n",
    "SYNOLOGY_DIR = '/media/pathimg/'\n",
    "#PATH_NET_DIR = '/media/disk2/PathologyNet'\n",
    "PATH_NET_DIR = './data/'\n",
    "\n",
    "for tumor in tumor_folder_names:\n",
    "    # use first as origin folder name\n",
    "    tumor_dir = os.path.join(SYNOLOGY_DIR, tumor[0])\n",
    "    # use last as destination folder name\n",
    "    db_dir = os.path.join(PATH_NET_DIR, tumor[-1])\n",
    "    # name db with destination folder name\n",
    "    db_name = tumor[-1] + '_patch_db'\n",
    "    # create db dir if doesn't exist at destination\n",
    "    if os.path.exists(db_dir):\n",
    "        shutil.rmtree(db_dir)\n",
    "        os.mkdir(db_dir)\n",
    "    else:\n",
    "        os.mkdir(db_dir)\n",
    "    tumor_type_list.append([tumor_dir, db_dir, db_name])\n",
    "\n",
    "# TCGA_UTERUS_DIR\n",
    "\n",
    "# TCGA_BREAST_DIR\n",
    "\n",
    "# TCGA_COLORECTAL\n",
    "\n",
    "# TCGA_GLIOMA_FROZEN_DIR\n",
    "\n",
    "# # Ependymoma Craniopharyngioma\n",
    "# CGGA_EC_DIR\n",
    "\n",
    "print(tumor_type_list)"
   ]
  },
  {
   "cell_type": "code",
   "execution_count": 4,
   "metadata": {},
   "outputs": [],
   "source": [
    "def process_tumor_type(tumor_dir, db_dir, db_name, num_to_process):\n",
    "    turtle = py_wsi.Turtle(tumor_dir, db_dir, db_name)\n",
    "    turtle_stats(turtle)\n",
    "#     file_stats(turtle.files_path[0])\n",
    "    files_path = turtle.files_path[:num_to_process]\n",
    "    files_name = turtle.files[:num_to_process]\n",
    "    \n",
    "    multiprocessing_pipeline(tumor_dir, db_dir, files_path, files_name, tile_size=1024, zoom_level=0, num_tiles=50)"
   ]
  },
  {
   "cell_type": "code",
   "execution_count": 7,
   "metadata": {},
   "outputs": [],
   "source": [
    "%%capture cap\n",
    "print('start')\n",
    "with open('output.txt', 'w') as f:\n",
    "    f.write(cap.stdout)\n",
    "    \n",
    "for tumor_type in tumor_type_list:\n",
    "    process_tumor_type(tumor_type[0], tumor_type[1], tumor_type[2], 28)\n",
    "    print('finished processing', tumor_type[0])\n",
    "    with open('output.txt', 'w') as f:\n",
    "        f.write(cap.stdout)"
   ]
  },
  {
   "cell_type": "markdown",
   "metadata": {},
   "source": [
    "# Move files to training folders"
   ]
  },
  {
   "cell_type": "code",
   "execution_count": 17,
   "metadata": {},
   "outputs": [],
   "source": [
    "%%capture cap\n",
    "for tumor_type in tumor_type_list:\n",
    "    tumor_name = tumor_type[2][:-9]\n",
    "    tumor_db_dir = tumor_type[1]\n",
    "\n",
    "    tumor_tile_dir = os.path.join(tumor_db_dir, 'tiles_png')\n",
    "\n",
    "    CLASSIFICATION_DATA_DIR = './data/multiclass_data'\n",
    "    train_dir = os.path.join(CLASSIFICATION_DATA_DIR, 'train')\n",
    "    val_dir = os.path.join(CLASSIFICATION_DATA_DIR, 'val')\n",
    "\n",
    "    train_tumor_dir = os.path.join(train_dir, tumor_name)\n",
    "    val_tumor_dir = os.path.join(val_dir, tumor_name)\n",
    "\n",
    "    if not os.path.exists(train_tumor_dir):\n",
    "        os.mkdir(train_tumor_dir)\n",
    "\n",
    "    if not os.path.exists(val_tumor_dir):\n",
    "        os.mkdir(val_tumor_dir)\n",
    "\n",
    "    all_tumor_png = glob.glob(os.path.join(tumor_tile_dir, '*', '*'), recursive=True)\n",
    "    len(all_tumor_png)\n",
    "    shuffle(all_tumor_png)\n",
    "    \n",
    "    for img in all_tumor_png[:1120]:\n",
    "        shutil.move(img, train_tumor_dir)\n",
    "    for img in all_tumor_png[1120:]:\n",
    "        shutil.move(img, val_tumor_dir)"
   ]
  },
  {
   "cell_type": "code",
   "execution_count": null,
   "metadata": {},
   "outputs": [],
   "source": []
  }
 ],
 "metadata": {
  "kernelspec": {
   "display_name": "Python [conda env:py36_cu90]",
   "language": "python",
   "name": "conda-env-py36_cu90-py"
  },
  "language_info": {
   "codemirror_mode": {
    "name": "ipython",
    "version": 3
   },
   "file_extension": ".py",
   "mimetype": "text/x-python",
   "name": "python",
   "nbconvert_exporter": "python",
   "pygments_lexer": "ipython3",
   "version": "3.6.6"
  }
 },
 "nbformat": 4,
 "nbformat_minor": 2
}
