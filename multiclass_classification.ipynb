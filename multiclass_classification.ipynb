{
 "cells": [
  {
   "cell_type": "code",
   "execution_count": null,
   "metadata": {},
   "outputs": [],
   "source": [
    "# Put these at the top of every notebook, to get automatic reloading and inline plotting\n",
    "%reload_ext autoreload\n",
    "%autoreload 2\n",
    "%matplotlib inline\n",
    "\n",
    "from IPython.core.interactiveshell import InteractiveShell\n",
    "InteractiveShell.ast_node_interactivity = \"all\"\n",
    "\n",
    "# import warnings\n",
    "# warnings.filterwarnings(\"ignore\", category=DeprecationWarning);\n",
    "\n",
    "import sys\n",
    "sys.executable"
   ]
  },
  {
   "cell_type": "markdown",
   "metadata": {},
   "source": [
    "# Multiclass Classification"
   ]
  },
  {
   "cell_type": "code",
   "execution_count": null,
   "metadata": {},
   "outputs": [],
   "source": [
    "glioma_tile_dir = '/media/disk1/mingrui-projects/python-wsi-preprocessing/IDH_sample/tiles_png'\n",
    "meningioma_tile_dir = '/media/disk1/mingrui-projects/python-wsi-preprocessing/Meningioma_sample/tiles_png'\n",
    "\n",
    "train_dir = '/media/disk1/mingrui-projects/python-wsi-preprocessing/tumor-classification-data/train'\n",
    "val_dir = '/media/disk1/mingrui-projects/python-wsi-preprocessing/tumor-classification-data/val'\n",
    "\n",
    "train_glioma_dir = os.path.join(train_dir, 'glioma')\n",
    "train_meningioma_dir = os.path.join(train_dir, 'meningioma')\n",
    "\n",
    "val_glioma_dir = os.path.join(val_dir, 'glioma')\n",
    "val_meningioma_dir = os.path.join(val_dir, 'meningioma')\n",
    "\n",
    "all_glioma_png = glob.glob(os.path.join(glioma_tile_dir, '*', '*'), recursive=True)\n",
    "len(all_glioma_png)\n",
    "\n",
    "all_meningioma_png = glob.glob(os.path.join(meningioma_tile_dir, '*', '*'), recursive=True)\n",
    "len(all_meningioma_png)\n",
    "\n",
    "shuffle(all_glioma_png)\n",
    "shuffle(all_meningioma_png)\n",
    "\n",
    "# for img in all_glioma_png[:200]:\n",
    "#     shutil.move(img, train_glioma_dir)\n",
    "    \n",
    "# for img in all_glioma_png[200:]:\n",
    "#     shutil.move(img, val_glioma_dir)\n",
    "\n",
    "# for img in all_meningioma_png[:200]:\n",
    "#     shutil.move(img, train_meningioma_dir)\n",
    "    \n",
    "# for img in all_meningioma_png[200:]:\n",
    "#     shutil.move(img, val_meningioma_dir)"
   ]
  }
 ],
 "metadata": {
  "kernelspec": {
   "display_name": "Python [conda env:py36_cu90]",
   "language": "python",
   "name": "conda-env-py36_cu90-py"
  },
  "language_info": {
   "codemirror_mode": {
    "name": "ipython",
    "version": 3
   },
   "file_extension": ".py",
   "mimetype": "text/x-python",
   "name": "python",
   "nbconvert_exporter": "python",
   "pygments_lexer": "ipython3",
   "version": "3.6.6"
  }
 },
 "nbformat": 4,
 "nbformat_minor": 2
}
